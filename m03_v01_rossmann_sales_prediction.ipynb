{
 "cells": [
  {
   "cell_type": "markdown",
   "metadata": {},
   "source": [
    "# 0.0. IMPORTS"
   ]
  },
  {
   "cell_type": "code",
   "execution_count": 1,
   "metadata": {},
   "outputs": [],
   "source": [
    "import pandas as pd\n",
    "import math\n",
    "import numpy as np\n",
    "import seaborn as sns\n",
    "import matplotlib.pyplot as plt\n",
    "# import inflection\n",
    "import datetime"
   ]
  },
  {
   "cell_type": "markdown",
   "metadata": {},
   "source": [
    "## 0.1. Helper Functions"
   ]
  },
  {
   "cell_type": "markdown",
   "metadata": {},
   "source": [
    "## 0.2. Loading Data"
   ]
  },
  {
   "cell_type": "code",
   "execution_count": 2,
   "metadata": {},
   "outputs": [],
   "source": [
    "df_sales_raw = pd.read_csv('data/train.csv', low_memory=False)\n",
    "df_store_raw = pd.read_csv('data/store.csv', low_memory=False)\n",
    "\n",
    "# Merge\n",
    "df_raw = pd.merge(df_sales_raw, df_store_raw, how='left', on='Store')"
   ]
  },
  {
   "cell_type": "markdown",
   "metadata": {},
   "source": [
    "# 1.0. PASSO 01 - DESCRICAO DOS DADOS"
   ]
  },
  {
   "cell_type": "code",
   "execution_count": 3,
   "metadata": {},
   "outputs": [],
   "source": [
    "df1 = df_raw.copy()"
   ]
  },
  {
   "cell_type": "markdown",
   "metadata": {},
   "source": [
    "## 1.1. Rename Columns"
   ]
  },
  {
   "cell_type": "code",
   "execution_count": 4,
   "metadata": {},
   "outputs": [],
   "source": [
    "cols_old = df1.columns\n",
    "\n",
    "# def snakecase(x):\n",
    "#     return inflection.underscore(x)\n",
    "\n",
    "# cols_new = list(map(snakecase, cols_old))\n",
    "cols_new = ['store', 'day_of_week', 'date', 'sales', 'customers', 'open', 'promo',\n",
    "       'state_holiday', 'school_holiday', 'store_type', 'assortment',\n",
    "       'competition_distance', 'competition_open_since_month',\n",
    "       'competition_open_since_year', 'promo2', 'promo2_since_week',\n",
    "       'promo2_since_year', 'promo_interval']\n",
    "\n",
    "# rename\n",
    "df1.columns = cols_new"
   ]
  },
  {
   "cell_type": "markdown",
   "metadata": {},
   "source": [
    "## 1.2. Data Dimensions"
   ]
  },
  {
   "cell_type": "code",
   "execution_count": 5,
   "metadata": {},
   "outputs": [
    {
     "name": "stdout",
     "output_type": "stream",
     "text": [
      "Number of rows: 1017209\n",
      "Number of cols: 18\n"
     ]
    }
   ],
   "source": [
    "print(\"Number of rows: {}\".format(df1.shape[0]))\n",
    "print(\"Number of cols: {}\".format(df1.shape[1]))"
   ]
  },
  {
   "cell_type": "markdown",
   "metadata": {},
   "source": [
    "## 1.3. Data Types"
   ]
  },
  {
   "cell_type": "code",
   "execution_count": 6,
   "metadata": {},
   "outputs": [
    {
     "data": {
      "text/plain": [
       "store                                    int64\n",
       "day_of_week                              int64\n",
       "date                            datetime64[ns]\n",
       "sales                                    int64\n",
       "customers                                int64\n",
       "open                                     int64\n",
       "promo                                    int64\n",
       "state_holiday                           object\n",
       "school_holiday                           int64\n",
       "store_type                              object\n",
       "assortment                              object\n",
       "competition_distance                   float64\n",
       "competition_open_since_month           float64\n",
       "competition_open_since_year            float64\n",
       "promo2                                   int64\n",
       "promo2_since_week                      float64\n",
       "promo2_since_year                      float64\n",
       "promo_interval                          object\n",
       "dtype: object"
      ]
     },
     "execution_count": 6,
     "metadata": {},
     "output_type": "execute_result"
    }
   ],
   "source": [
    "df1['date'] = pd.to_datetime(df1['date'])\n",
    "df1.dtypes"
   ]
  },
  {
   "cell_type": "markdown",
   "metadata": {},
   "source": [
    "## 1.4. Check NA"
   ]
  },
  {
   "cell_type": "code",
   "execution_count": 7,
   "metadata": {},
   "outputs": [
    {
     "data": {
      "text/plain": [
       "store                                0\n",
       "day_of_week                          0\n",
       "date                                 0\n",
       "sales                                0\n",
       "customers                            0\n",
       "open                                 0\n",
       "promo                                0\n",
       "state_holiday                        0\n",
       "school_holiday                       0\n",
       "store_type                           0\n",
       "assortment                           0\n",
       "competition_distance              2642\n",
       "competition_open_since_month    323348\n",
       "competition_open_since_year     323348\n",
       "promo2                               0\n",
       "promo2_since_week               508031\n",
       "promo2_since_year               508031\n",
       "promo_interval                  508031\n",
       "dtype: int64"
      ]
     },
     "execution_count": 7,
     "metadata": {},
     "output_type": "execute_result"
    }
   ],
   "source": [
    "df1.isna().sum()"
   ]
  },
  {
   "cell_type": "markdown",
   "metadata": {},
   "source": [
    "## 1.5. Fillout NA"
   ]
  },
  {
   "cell_type": "code",
   "execution_count": 8,
   "metadata": {},
   "outputs": [
    {
     "data": {
      "text/plain": [
       "75860.0"
      ]
     },
     "execution_count": 8,
     "metadata": {},
     "output_type": "execute_result"
    }
   ],
   "source": [
    "df1['competition_distance'].max()"
   ]
  },
  {
   "cell_type": "code",
   "execution_count": 9,
   "metadata": {},
   "outputs": [],
   "source": [
    "#competition_distance\n",
    "df1['competition_distance'] = df1['competition_distance'].apply(lambda x: 200000 if math.isnan(x) else x)\n",
    "\n",
    "#competition_open_since_month\n",
    "df1['competition_open_since_month'] = df1.apply(lambda x: x['date'].month if math.isnan(x['competition_open_since_month']) else x['competition_open_since_month'], axis=1) \n",
    "\n",
    "#competition_open_since_year\n",
    "df1['competition_open_since_year'] = df1.apply(lambda x: x['date'].year if math.isnan(x['competition_open_since_year']) else x['competition_open_since_year'], axis=1)\n",
    "\n",
    "#promo2_since_week\n",
    "df1['promo2_since_week'] = df1.apply(lambda x: x['date'].week if math.isnan(x['promo2_since_week']) else x['promo2_since_week'], axis=1)\n",
    "\n",
    "#promo2_since_year\n",
    "df1['promo2_since_year'] = df1.apply(lambda x: x['date'].year if math.isnan(x['promo2_since_year']) else x['promo2_since_year'], axis=1)\n",
    "\n",
    "#promo_interval\n",
    "month_map = {1: 'Jan', 2: 'Feb', 3: 'Mar', 4: 'Apr', 5: 'May', 6: 'Jun', 7: 'Jul', 8: 'Aug', 9: 'Sep', 10: 'Oct', 11: 'Nov', 12: 'Dec'}\n",
    "df1['promo_interval'].fillna(0, inplace=True)\n",
    "df1['month_map'] = df1['date'].dt.month.map(month_map)\n",
    "df1['is_promo'] = df1[['promo_interval', 'month_map']].apply(lambda x: 0 if x['promo_interval'] == 0 else 1 if x['month_map'] in x['promo_interval'].split(',') else 0, axis=1)"
   ]
  },
  {
   "cell_type": "code",
   "execution_count": 10,
   "metadata": {},
   "outputs": [
    {
     "data": {
      "text/plain": [
       "store                           0\n",
       "day_of_week                     0\n",
       "date                            0\n",
       "sales                           0\n",
       "customers                       0\n",
       "open                            0\n",
       "promo                           0\n",
       "state_holiday                   0\n",
       "school_holiday                  0\n",
       "store_type                      0\n",
       "assortment                      0\n",
       "competition_distance            0\n",
       "competition_open_since_month    0\n",
       "competition_open_since_year     0\n",
       "promo2                          0\n",
       "promo2_since_week               0\n",
       "promo2_since_year               0\n",
       "promo_interval                  0\n",
       "month_map                       0\n",
       "is_promo                        0\n",
       "dtype: int64"
      ]
     },
     "execution_count": 10,
     "metadata": {},
     "output_type": "execute_result"
    }
   ],
   "source": [
    "df1.isna().sum()"
   ]
  },
  {
   "cell_type": "markdown",
   "metadata": {},
   "source": [
    "## 1.6. Change Types"
   ]
  },
  {
   "cell_type": "code",
   "execution_count": 11,
   "metadata": {},
   "outputs": [],
   "source": [
    "df1['competition_open_since_month'] = df1['competition_open_since_month'].astype('int64')\n",
    "df1['competition_open_since_year'] = df1['competition_open_since_year'].astype('int64')\n",
    "\n",
    "df1['promo2_since_week'] = df1['promo2_since_week'].astype('int64')\n",
    "df1['promo2_since_year'] = df1['promo2_since_year'].astype('int64')"
   ]
  },
  {
   "cell_type": "markdown",
   "metadata": {},
   "source": [
    "## 1.7. Descriptive Statistics"
   ]
  },
  {
   "cell_type": "code",
   "execution_count": 12,
   "metadata": {},
   "outputs": [],
   "source": [
    "num_attributes = df1.select_dtypes(include=['int64', 'float64'])\n",
    "cat_attributes = df1.select_dtypes(exclude=['int64', 'float64', 'datetime64[ns]'])"
   ]
  },
  {
   "cell_type": "markdown",
   "metadata": {},
   "source": [
    "### 1.7.1. Numerical Attributes"
   ]
  },
  {
   "cell_type": "code",
   "execution_count": 13,
   "metadata": {},
   "outputs": [
    {
     "data": {
      "text/html": [
       "<div>\n",
       "<style scoped>\n",
       "    .dataframe tbody tr th:only-of-type {\n",
       "        vertical-align: middle;\n",
       "    }\n",
       "\n",
       "    .dataframe tbody tr th {\n",
       "        vertical-align: top;\n",
       "    }\n",
       "\n",
       "    .dataframe thead th {\n",
       "        text-align: right;\n",
       "    }\n",
       "</style>\n",
       "<table border=\"1\" class=\"dataframe\">\n",
       "  <thead>\n",
       "    <tr style=\"text-align: right;\">\n",
       "      <th></th>\n",
       "      <th>min</th>\n",
       "      <th>max</th>\n",
       "      <th>range</th>\n",
       "      <th>mean</th>\n",
       "      <th>median</th>\n",
       "      <th>std</th>\n",
       "      <th>skew</th>\n",
       "      <th>kurtosis</th>\n",
       "    </tr>\n",
       "  </thead>\n",
       "  <tbody>\n",
       "    <tr>\n",
       "      <th>store</th>\n",
       "      <td>1.0</td>\n",
       "      <td>1115.0</td>\n",
       "      <td>1114.0</td>\n",
       "      <td>558.429727</td>\n",
       "      <td>558.0</td>\n",
       "      <td>321.908493</td>\n",
       "      <td>-0.000955</td>\n",
       "      <td>-1.200524</td>\n",
       "    </tr>\n",
       "    <tr>\n",
       "      <th>day_of_week</th>\n",
       "      <td>1.0</td>\n",
       "      <td>7.0</td>\n",
       "      <td>6.0</td>\n",
       "      <td>3.998341</td>\n",
       "      <td>4.0</td>\n",
       "      <td>1.997390</td>\n",
       "      <td>0.001593</td>\n",
       "      <td>-1.246873</td>\n",
       "    </tr>\n",
       "    <tr>\n",
       "      <th>sales</th>\n",
       "      <td>0.0</td>\n",
       "      <td>41551.0</td>\n",
       "      <td>41551.0</td>\n",
       "      <td>5773.818972</td>\n",
       "      <td>5744.0</td>\n",
       "      <td>3849.924283</td>\n",
       "      <td>0.641460</td>\n",
       "      <td>1.778375</td>\n",
       "    </tr>\n",
       "    <tr>\n",
       "      <th>customers</th>\n",
       "      <td>0.0</td>\n",
       "      <td>7388.0</td>\n",
       "      <td>7388.0</td>\n",
       "      <td>633.145946</td>\n",
       "      <td>609.0</td>\n",
       "      <td>464.411506</td>\n",
       "      <td>1.598650</td>\n",
       "      <td>7.091773</td>\n",
       "    </tr>\n",
       "    <tr>\n",
       "      <th>open</th>\n",
       "      <td>0.0</td>\n",
       "      <td>1.0</td>\n",
       "      <td>1.0</td>\n",
       "      <td>0.830107</td>\n",
       "      <td>1.0</td>\n",
       "      <td>0.375539</td>\n",
       "      <td>-1.758045</td>\n",
       "      <td>1.090723</td>\n",
       "    </tr>\n",
       "    <tr>\n",
       "      <th>promo</th>\n",
       "      <td>0.0</td>\n",
       "      <td>1.0</td>\n",
       "      <td>1.0</td>\n",
       "      <td>0.381515</td>\n",
       "      <td>0.0</td>\n",
       "      <td>0.485758</td>\n",
       "      <td>0.487838</td>\n",
       "      <td>-1.762018</td>\n",
       "    </tr>\n",
       "    <tr>\n",
       "      <th>school_holiday</th>\n",
       "      <td>0.0</td>\n",
       "      <td>1.0</td>\n",
       "      <td>1.0</td>\n",
       "      <td>0.178647</td>\n",
       "      <td>0.0</td>\n",
       "      <td>0.383056</td>\n",
       "      <td>1.677842</td>\n",
       "      <td>0.815154</td>\n",
       "    </tr>\n",
       "    <tr>\n",
       "      <th>competition_distance</th>\n",
       "      <td>20.0</td>\n",
       "      <td>200000.0</td>\n",
       "      <td>199980.0</td>\n",
       "      <td>5935.442677</td>\n",
       "      <td>2330.0</td>\n",
       "      <td>12547.646829</td>\n",
       "      <td>10.242344</td>\n",
       "      <td>147.789712</td>\n",
       "    </tr>\n",
       "    <tr>\n",
       "      <th>competition_open_since_month</th>\n",
       "      <td>1.0</td>\n",
       "      <td>12.0</td>\n",
       "      <td>11.0</td>\n",
       "      <td>6.786849</td>\n",
       "      <td>7.0</td>\n",
       "      <td>3.311085</td>\n",
       "      <td>-0.042076</td>\n",
       "      <td>-1.232607</td>\n",
       "    </tr>\n",
       "    <tr>\n",
       "      <th>competition_open_since_year</th>\n",
       "      <td>1900.0</td>\n",
       "      <td>2015.0</td>\n",
       "      <td>115.0</td>\n",
       "      <td>2010.324840</td>\n",
       "      <td>2012.0</td>\n",
       "      <td>5.515591</td>\n",
       "      <td>-7.235657</td>\n",
       "      <td>124.071304</td>\n",
       "    </tr>\n",
       "    <tr>\n",
       "      <th>promo2</th>\n",
       "      <td>0.0</td>\n",
       "      <td>1.0</td>\n",
       "      <td>1.0</td>\n",
       "      <td>0.500564</td>\n",
       "      <td>1.0</td>\n",
       "      <td>0.500000</td>\n",
       "      <td>-0.002255</td>\n",
       "      <td>-1.999999</td>\n",
       "    </tr>\n",
       "    <tr>\n",
       "      <th>promo2_since_week</th>\n",
       "      <td>1.0</td>\n",
       "      <td>52.0</td>\n",
       "      <td>51.0</td>\n",
       "      <td>23.619033</td>\n",
       "      <td>22.0</td>\n",
       "      <td>14.310057</td>\n",
       "      <td>0.178723</td>\n",
       "      <td>-1.184046</td>\n",
       "    </tr>\n",
       "    <tr>\n",
       "      <th>promo2_since_year</th>\n",
       "      <td>2009.0</td>\n",
       "      <td>2015.0</td>\n",
       "      <td>6.0</td>\n",
       "      <td>2012.793297</td>\n",
       "      <td>2013.0</td>\n",
       "      <td>1.662657</td>\n",
       "      <td>-0.784436</td>\n",
       "      <td>-0.210075</td>\n",
       "    </tr>\n",
       "    <tr>\n",
       "      <th>is_promo</th>\n",
       "      <td>0.0</td>\n",
       "      <td>1.0</td>\n",
       "      <td>1.0</td>\n",
       "      <td>0.165966</td>\n",
       "      <td>0.0</td>\n",
       "      <td>0.372050</td>\n",
       "      <td>1.795644</td>\n",
       "      <td>1.224338</td>\n",
       "    </tr>\n",
       "  </tbody>\n",
       "</table>\n",
       "</div>"
      ],
      "text/plain": [
       "                                 min       max     range         mean  median  \\\n",
       "store                            1.0    1115.0    1114.0   558.429727   558.0   \n",
       "day_of_week                      1.0       7.0       6.0     3.998341     4.0   \n",
       "sales                            0.0   41551.0   41551.0  5773.818972  5744.0   \n",
       "customers                        0.0    7388.0    7388.0   633.145946   609.0   \n",
       "open                             0.0       1.0       1.0     0.830107     1.0   \n",
       "promo                            0.0       1.0       1.0     0.381515     0.0   \n",
       "school_holiday                   0.0       1.0       1.0     0.178647     0.0   \n",
       "competition_distance            20.0  200000.0  199980.0  5935.442677  2330.0   \n",
       "competition_open_since_month     1.0      12.0      11.0     6.786849     7.0   \n",
       "competition_open_since_year   1900.0    2015.0     115.0  2010.324840  2012.0   \n",
       "promo2                           0.0       1.0       1.0     0.500564     1.0   \n",
       "promo2_since_week                1.0      52.0      51.0    23.619033    22.0   \n",
       "promo2_since_year             2009.0    2015.0       6.0  2012.793297  2013.0   \n",
       "is_promo                         0.0       1.0       1.0     0.165966     0.0   \n",
       "\n",
       "                                       std       skew    kurtosis  \n",
       "store                           321.908493  -0.000955   -1.200524  \n",
       "day_of_week                       1.997390   0.001593   -1.246873  \n",
       "sales                          3849.924283   0.641460    1.778375  \n",
       "customers                       464.411506   1.598650    7.091773  \n",
       "open                              0.375539  -1.758045    1.090723  \n",
       "promo                             0.485758   0.487838   -1.762018  \n",
       "school_holiday                    0.383056   1.677842    0.815154  \n",
       "competition_distance          12547.646829  10.242344  147.789712  \n",
       "competition_open_since_month      3.311085  -0.042076   -1.232607  \n",
       "competition_open_since_year       5.515591  -7.235657  124.071304  \n",
       "promo2                            0.500000  -0.002255   -1.999999  \n",
       "promo2_since_week                14.310057   0.178723   -1.184046  \n",
       "promo2_since_year                 1.662657  -0.784436   -0.210075  \n",
       "is_promo                          0.372050   1.795644    1.224338  "
      ]
     },
     "execution_count": 13,
     "metadata": {},
     "output_type": "execute_result"
    }
   ],
   "source": [
    "# Central tendency - mean, median\n",
    "ct1 = pd.DataFrame(num_attributes.apply(np.mean)).T\n",
    "ct2 = pd.DataFrame(num_attributes.apply(np.median)).T\n",
    "\n",
    "# Dispersion - std, min, max, range, skew, kurtosis\n",
    "d1 = pd.DataFrame(num_attributes.apply(np.std)).T\n",
    "d2 = pd.DataFrame(num_attributes.apply(min)).T\n",
    "d3 = pd.DataFrame(num_attributes.apply(max)).T\n",
    "d4 = pd.DataFrame(num_attributes.apply(lambda x: x.max() - x.min())).T\n",
    "d5 = pd.DataFrame(num_attributes.apply(lambda x: x.skew())).T\n",
    "d6 = pd.DataFrame(num_attributes.apply(lambda x: x.kurtosis())).T\n",
    "\n",
    "# Concatenate\n",
    "m = pd.concat([d2, d3, d4, ct1, ct2, d1, d5, d6])\n",
    "m = m.T\n",
    "m.columns = ['min', 'max', 'range', 'mean', 'median', 'std', 'skew', 'kurtosis']\n",
    "m\n"
   ]
  },
  {
   "cell_type": "code",
   "execution_count": 14,
   "metadata": {},
   "outputs": [
    {
     "name": "stderr",
     "output_type": "stream",
     "text": [
      "C:\\Users\\Aliss\\anaconda3\\lib\\site-packages\\seaborn\\distributions.py:2551: FutureWarning: `distplot` is a deprecated function and will be removed in a future version. Please adapt your code to use either `displot` (a figure-level function with similar flexibility) or `histplot` (an axes-level function for histograms).\n",
      "  warnings.warn(msg, FutureWarning)\n"
     ]
    },
    {
     "data": {
      "text/plain": [
       "<AxesSubplot:xlabel='sales', ylabel='Density'>"
      ]
     },
     "execution_count": 14,
     "metadata": {},
     "output_type": "execute_result"
    },
    {
     "data": {
      "image/png": "[encoded data removed]",
      "text/plain": [
       "<Figure size 432x288 with 1 Axes>"
      ]
     },
     "metadata": {
      "needs_background": "light"
     },
     "output_type": "display_data"
    }
   ],
   "source": [
    "sns.distplot(df1['sales'])"
   ]
  },
  {
   "cell_type": "code",
   "execution_count": 15,
   "metadata": {},
   "outputs": [
    {
     "name": "stderr",
     "output_type": "stream",
     "text": [
      "C:\\Users\\Aliss\\anaconda3\\lib\\site-packages\\seaborn\\distributions.py:2551: FutureWarning: `distplot` is a deprecated function and will be removed in a future version. Please adapt your code to use either `displot` (a figure-level function with similar flexibility) or `histplot` (an axes-level function for histograms).\n",
      "  warnings.warn(msg, FutureWarning)\n"
     ]
    },
    {
     "data": {
      "text/plain": [
       "<AxesSubplot:xlabel='competition_distance', ylabel='Density'>"
      ]
     },
     "execution_count": 15,
     "metadata": {},
     "output_type": "execute_result"
    },
    {
     "data": {
      "image/png": "[encoded data removed]",
      "text/plain": [
       "<Figure size 432x288 with 1 Axes>"
      ]
     },
     "metadata": {
      "needs_background": "light"
     },
     "output_type": "display_data"
    }
   ],
   "source": [
    "sns.distplot(df1['competition_distance'])"
   ]
  },
  {
   "cell_type": "markdown",
   "metadata": {},
   "source": [
    "### 1.7.2. Categorical Attributes"
   ]
  },
  {
   "cell_type": "code",
   "execution_count": 16,
   "metadata": {},
   "outputs": [
    {
     "data": {
      "text/plain": [
       "state_holiday      4\n",
       "store_type         4\n",
       "assortment         3\n",
       "promo_interval     4\n",
       "month_map         12\n",
       "dtype: int64"
      ]
     },
     "execution_count": 16,
     "metadata": {},
     "output_type": "execute_result"
    }
   ],
   "source": [
    "cat_attributes.apply(lambda x: x.unique().shape[0])"
   ]
  },
  {
   "cell_type": "code",
   "execution_count": 17,
   "metadata": {},
   "outputs": [
    {
     "data": {
      "text/html": [
       "<div>\n",
       "<style scoped>\n",
       "    .dataframe tbody tr th:only-of-type {\n",
       "        vertical-align: middle;\n",
       "    }\n",
       "\n",
       "    .dataframe tbody tr th {\n",
       "        vertical-align: top;\n",
       "    }\n",
       "\n",
       "    .dataframe thead th {\n",
       "        text-align: right;\n",
       "    }\n",
       "</style>\n",
       "<table border=\"1\" class=\"dataframe\">\n",
       "  <thead>\n",
       "    <tr style=\"text-align: right;\">\n",
       "      <th></th>\n",
       "      <th>state_holiday</th>\n",
       "      <th>store_type</th>\n",
       "      <th>assortment</th>\n",
       "      <th>promo_interval</th>\n",
       "      <th>month_map</th>\n",
       "    </tr>\n",
       "  </thead>\n",
       "  <tbody>\n",
       "    <tr>\n",
       "      <th>count</th>\n",
       "      <td>1017209</td>\n",
       "      <td>1017209</td>\n",
       "      <td>1017209</td>\n",
       "      <td>1017209</td>\n",
       "      <td>1017209</td>\n",
       "    </tr>\n",
       "    <tr>\n",
       "      <th>unique</th>\n",
       "      <td>4</td>\n",
       "      <td>4</td>\n",
       "      <td>3</td>\n",
       "      <td>4</td>\n",
       "      <td>12</td>\n",
       "    </tr>\n",
       "    <tr>\n",
       "      <th>top</th>\n",
       "      <td>0</td>\n",
       "      <td>a</td>\n",
       "      <td>a</td>\n",
       "      <td>0</td>\n",
       "      <td>May</td>\n",
       "    </tr>\n",
       "    <tr>\n",
       "      <th>freq</th>\n",
       "      <td>986159</td>\n",
       "      <td>551627</td>\n",
       "      <td>537445</td>\n",
       "      <td>508031</td>\n",
       "      <td>103695</td>\n",
       "    </tr>\n",
       "  </tbody>\n",
       "</table>\n",
       "</div>"
      ],
      "text/plain": [
       "       state_holiday store_type assortment  promo_interval month_map\n",
       "count        1017209    1017209    1017209         1017209   1017209\n",
       "unique             4          4          3               4        12\n",
       "top                0          a          a               0       May\n",
       "freq          986159     551627     537445          508031    103695"
      ]
     },
     "execution_count": 17,
     "metadata": {},
     "output_type": "execute_result"
    }
   ],
   "source": [
    "cat_attributes.describe()"
   ]
  },
  {
   "cell_type": "code",
   "execution_count": 18,
   "metadata": {},
   "outputs": [
    {
     "data": {
      "image/png": "[encoded data removed]",
      "text/plain": [
       "<Figure size 1080x360 with 3 Axes>"
      ]
     },
     "metadata": {
      "needs_background": "light"
     },
     "output_type": "display_data"
    }
   ],
   "source": [
    "aux1 = df1[(df1['state_holiday'] != '0') & (df1['sales'] > 0)]\n",
    "\n",
    "plt.figure(figsize=(15, 5))\n",
    "plt.subplot(1, 3, 1)\n",
    "sns.boxplot(x='state_holiday', y='sales', data=aux1)\n",
    "\n",
    "plt.subplot(1, 3, 2)\n",
    "sns.boxplot(x='store_type', y='sales', data=aux1)\n",
    "\n",
    "plt.subplot(1, 3, 3)\n",
    "sns.boxplot(x='assortment', y='sales', data=aux1)\n",
    "\n",
    "plt.tight_layout()"
   ]
  },
  {
   "cell_type": "markdown",
   "metadata": {},
   "source": [
    "# 2.0. PASSO 02 - FEATURE ENGINEERING"
   ]
  },
  {
   "cell_type": "code",
   "execution_count": 19,
   "metadata": {},
   "outputs": [],
   "source": [
    "df2 = df1.copy()"
   ]
  },
  {
   "cell_type": "markdown",
   "metadata": {},
   "source": [
    "## 2.1. Mapa Mental de Hipoteses"
   ]
  },
  {
   "cell_type": "markdown",
   "metadata": {},
   "source": [
    "![Mind Map Hypothesis](img/MindMapHypothesis.png)"
   ]
  },
  {
   "cell_type": "markdown",
   "metadata": {},
   "source": [
    "## 2.2. Criação das Hipoteses"
   ]
  },
  {
   "cell_type": "markdown",
   "metadata": {},
   "source": [
    "### 2.2.1 Hipoteses Loja"
   ]
  },
  {
   "cell_type": "markdown",
   "metadata": {},
   "source": [
    "**1.** Lojas com número maior de funcionários deveriam vender mais\n",
    "\n",
    "**2.** Lojas com maior capacidade de estoque deveriam vender mais.\n",
    "\n",
    "**3.** Lojas com maior porte deveriam vender mais.\n",
    "\n",
    "**4.** Lojas com maior sortimento deveriam vender mais.\n",
    "\n",
    "**5.** Lojas com competidores mais próximos deveriam vender menos.\n",
    "\n",
    "**6.** Lojas com competidores à mais tempo deveriam vender mais."
   ]
  },
  {
   "cell_type": "markdown",
   "metadata": {},
   "source": [
    "### 2.2.2 Hipoteses Produto"
   ]
  },
  {
   "cell_type": "markdown",
   "metadata": {},
   "source": [
    "**1.** Lojas que investem mais em marketing deveriam vender mais.\n",
    "\n",
    "**2.** Lojas com maior exposição do produto deveriam vender mais\n",
    "\n",
    "**3.** Lojas com produtos com preço menos deveriam vender mais\n",
    "\n",
    "**4.** Lojas com promoções mais agressivas (descontos maiores) deveriam vender mais\n",
    "\n",
    "**5.** Lojas com promoções ativas por mais tempo deveriam vender mais\n",
    "\n",
    "**6.** Lojas com mais dias de promoção deveriam vender mais.\n",
    "\n",
    "**7.** Lojas com mais promoções consecutivas deveriam vender mais."
   ]
  },
  {
   "cell_type": "markdown",
   "metadata": {},
   "source": [
    "### 2.2.3 Hipoteses Tempo"
   ]
  },
  {
   "cell_type": "markdown",
   "metadata": {},
   "source": [
    "**1.** Lojas abertas durante o feriado de Natal deveriam vender mais.\n",
    "\n",
    "**2.** Lojas deveriam vender mais ao longo dos anos.\n",
    "\n",
    "**3.** Lojas deveriam vender mais no segundo semestre dos ano.\n",
    "\n",
    "**4.** Lojas deveriam vender mais depois do dia 10 de cada mês.\n",
    "\n",
    "**5.** Lojas deveria vender menos aos finais de semana.\n",
    "\n",
    "**6.** Lojas deveriam vender menos durante os feriados escolares."
   ]
  },
  {
   "cell_type": "markdown",
   "metadata": {},
   "source": [
    "## 2.2. Lista Final de Hipoteses"
   ]
  },
  {
   "cell_type": "markdown",
   "metadata": {},
   "source": [
    "**1.** Lojas com maior sortimento deveriam vender mais.\n",
    "\n",
    "**2.** Lojas com competidores mais próximos deveriam vender menos.\n",
    "\n",
    "**3.** Lojas com competidores à mais tempo deveriam vender mais."
   ]
  },
  {
   "cell_type": "markdown",
   "metadata": {},
   "source": [
    "**4.** Lojas com promoções ativas por mais tempo deveriam vender mais\n",
    "\n",
    "**5.** Lojas com mais dias de promoção deveriam vender mais.\n",
    "\n",
    "**6.** Lojas com mais promoções consecutivas deveriam vender mais."
   ]
  },
  {
   "cell_type": "markdown",
   "metadata": {},
   "source": [
    "**7.** Lojas abertas durante o feriado de Natal deveriam vender mais.\n",
    "\n",
    "**8.** Lojas deveriam vender mais ao longo dos anos.\n",
    "\n",
    "**9.** Lojas deveriam vender mais no segundo semestre dos ano.\n",
    "\n",
    "**10.** Lojas deveriam vender mais depois do dia 10 de cada mês.\n",
    "\n",
    "**11.** Lojas deveria vender menos aos finais de semana.\n",
    "\n",
    "**12.** Lojas deveriam vender menos durante os feriados escolares."
   ]
  },
  {
   "cell_type": "markdown",
   "metadata": {},
   "source": [
    "## 2.3. Feature Engineering"
   ]
  },
  {
   "cell_type": "code",
   "execution_count": 20,
   "metadata": {},
   "outputs": [],
   "source": [
    "# year\n",
    "df2['year'] = df2['date'].dt.year\n",
    "\n",
    "# month\n",
    "df2['month'] = df2['date'].dt.month\n",
    "\n",
    "# day\n",
    "df2['day'] = df2['date'].dt.day\n",
    "\n",
    "# week of year\n",
    "df2['week_of_year'] = df2['date'].dt.isocalendar().week\n",
    "\n",
    "# year week\n",
    "df2['year_week'] = df2['date'].dt.strftime('%Y-%W')\n",
    "\n",
    "# competition since\n",
    "df2['competition_since'] = df2.apply(lambda x: datetime.datetime(year=x['competition_open_since_year'], month=x['competition_open_since_month'], day=1), axis=1)\n",
    "df2['competition_time_month'] = ((df2['date'] - df2['competition_since']) / 30).apply(lambda x: x.days).astype('int64')\n",
    "\n",
    "\n",
    "# promo since\n",
    "df2['promo_since'] = df2['promo2_since_year'].astype(str) + '-' + df2['promo2_since_week'].astype(str)\n",
    "df2['promo_since'] = df2['promo_since'].apply(lambda x: datetime.datetime.strptime(x + '-1', '%Y-%W-%w') - datetime.timedelta(days=7))\n",
    "df2['promo_time_week'] = ((df2['date'] - df2['promo_since']) / 7).apply(lambda x: x.days).astype('int64')\n",
    "\n",
    "# assortment\n",
    "df2['assortment'] = df2['assortment'].apply(lambda x: 'basic' if x=='a' else 'extra' if x=='b' else 'extended')\n",
    "\n",
    "# state holiday\n",
    "df2['state_holiday'] = df2['state_holiday'].apply(lambda x: 'public_holiday' if x=='a' else 'easter_holiday' if x=='b' else 'christmas' if x=='c' else 'regular_day')"
   ]
  },
  {
   "cell_type": "code",
   "execution_count": 21,
   "metadata": {},
   "outputs": [
    {
     "data": {
      "text/html": [
       "<div>\n",
       "<style scoped>\n",
       "    .dataframe tbody tr th:only-of-type {\n",
       "        vertical-align: middle;\n",
       "    }\n",
       "\n",
       "    .dataframe tbody tr th {\n",
       "        vertical-align: top;\n",
       "    }\n",
       "\n",
       "    .dataframe thead th {\n",
       "        text-align: right;\n",
       "    }\n",
       "</style>\n",
       "<table border=\"1\" class=\"dataframe\">\n",
       "  <thead>\n",
       "    <tr style=\"text-align: right;\">\n",
       "      <th></th>\n",
       "      <th>0</th>\n",
       "      <th>1</th>\n",
       "      <th>2</th>\n",
       "      <th>3</th>\n",
       "      <th>4</th>\n",
       "    </tr>\n",
       "  </thead>\n",
       "  <tbody>\n",
       "    <tr>\n",
       "      <th>store</th>\n",
       "      <td>1</td>\n",
       "      <td>2</td>\n",
       "      <td>3</td>\n",
       "      <td>4</td>\n",
       "      <td>5</td>\n",
       "    </tr>\n",
       "    <tr>\n",
       "      <th>day_of_week</th>\n",
       "      <td>5</td>\n",
       "      <td>5</td>\n",
       "      <td>5</td>\n",
       "      <td>5</td>\n",
       "      <td>5</td>\n",
       "    </tr>\n",
       "    <tr>\n",
       "      <th>date</th>\n",
       "      <td>2015-07-31 00:00:00</td>\n",
       "      <td>2015-07-31 00:00:00</td>\n",
       "      <td>2015-07-31 00:00:00</td>\n",
       "      <td>2015-07-31 00:00:00</td>\n",
       "      <td>2015-07-31 00:00:00</td>\n",
       "    </tr>\n",
       "    <tr>\n",
       "      <th>sales</th>\n",
       "      <td>5263</td>\n",
       "      <td>6064</td>\n",
       "      <td>8314</td>\n",
       "      <td>13995</td>\n",
       "      <td>4822</td>\n",
       "    </tr>\n",
       "    <tr>\n",
       "      <th>customers</th>\n",
       "      <td>555</td>\n",
       "      <td>625</td>\n",
       "      <td>821</td>\n",
       "      <td>1498</td>\n",
       "      <td>559</td>\n",
       "    </tr>\n",
       "    <tr>\n",
       "      <th>open</th>\n",
       "      <td>1</td>\n",
       "      <td>1</td>\n",
       "      <td>1</td>\n",
       "      <td>1</td>\n",
       "      <td>1</td>\n",
       "    </tr>\n",
       "    <tr>\n",
       "      <th>promo</th>\n",
       "      <td>1</td>\n",
       "      <td>1</td>\n",
       "      <td>1</td>\n",
       "      <td>1</td>\n",
       "      <td>1</td>\n",
       "    </tr>\n",
       "    <tr>\n",
       "      <th>state_holiday</th>\n",
       "      <td>regular_day</td>\n",
       "      <td>regular_day</td>\n",
       "      <td>regular_day</td>\n",
       "      <td>regular_day</td>\n",
       "      <td>regular_day</td>\n",
       "    </tr>\n",
       "    <tr>\n",
       "      <th>school_holiday</th>\n",
       "      <td>1</td>\n",
       "      <td>1</td>\n",
       "      <td>1</td>\n",
       "      <td>1</td>\n",
       "      <td>1</td>\n",
       "    </tr>\n",
       "    <tr>\n",
       "      <th>store_type</th>\n",
       "      <td>c</td>\n",
       "      <td>a</td>\n",
       "      <td>a</td>\n",
       "      <td>c</td>\n",
       "      <td>a</td>\n",
       "    </tr>\n",
       "    <tr>\n",
       "      <th>assortment</th>\n",
       "      <td>basic</td>\n",
       "      <td>basic</td>\n",
       "      <td>basic</td>\n",
       "      <td>extended</td>\n",
       "      <td>basic</td>\n",
       "    </tr>\n",
       "    <tr>\n",
       "      <th>competition_distance</th>\n",
       "      <td>1270</td>\n",
       "      <td>570</td>\n",
       "      <td>14130</td>\n",
       "      <td>620</td>\n",
       "      <td>29910</td>\n",
       "    </tr>\n",
       "    <tr>\n",
       "      <th>competition_open_since_month</th>\n",
       "      <td>9</td>\n",
       "      <td>11</td>\n",
       "      <td>12</td>\n",
       "      <td>9</td>\n",
       "      <td>4</td>\n",
       "    </tr>\n",
       "    <tr>\n",
       "      <th>competition_open_since_year</th>\n",
       "      <td>2008</td>\n",
       "      <td>2007</td>\n",
       "      <td>2006</td>\n",
       "      <td>2009</td>\n",
       "      <td>2015</td>\n",
       "    </tr>\n",
       "    <tr>\n",
       "      <th>promo2</th>\n",
       "      <td>0</td>\n",
       "      <td>1</td>\n",
       "      <td>1</td>\n",
       "      <td>0</td>\n",
       "      <td>0</td>\n",
       "    </tr>\n",
       "    <tr>\n",
       "      <th>promo2_since_week</th>\n",
       "      <td>31</td>\n",
       "      <td>13</td>\n",
       "      <td>14</td>\n",
       "      <td>31</td>\n",
       "      <td>31</td>\n",
       "    </tr>\n",
       "    <tr>\n",
       "      <th>promo2_since_year</th>\n",
       "      <td>2015</td>\n",
       "      <td>2010</td>\n",
       "      <td>2011</td>\n",
       "      <td>2015</td>\n",
       "      <td>2015</td>\n",
       "    </tr>\n",
       "    <tr>\n",
       "      <th>promo_interval</th>\n",
       "      <td>0</td>\n",
       "      <td>Jan,Apr,Jul,Oct</td>\n",
       "      <td>Jan,Apr,Jul,Oct</td>\n",
       "      <td>0</td>\n",
       "      <td>0</td>\n",
       "    </tr>\n",
       "    <tr>\n",
       "      <th>month_map</th>\n",
       "      <td>Jul</td>\n",
       "      <td>Jul</td>\n",
       "      <td>Jul</td>\n",
       "      <td>Jul</td>\n",
       "      <td>Jul</td>\n",
       "    </tr>\n",
       "    <tr>\n",
       "      <th>is_promo</th>\n",
       "      <td>0</td>\n",
       "      <td>1</td>\n",
       "      <td>1</td>\n",
       "      <td>0</td>\n",
       "      <td>0</td>\n",
       "    </tr>\n",
       "    <tr>\n",
       "      <th>year</th>\n",
       "      <td>2015</td>\n",
       "      <td>2015</td>\n",
       "      <td>2015</td>\n",
       "      <td>2015</td>\n",
       "      <td>2015</td>\n",
       "    </tr>\n",
       "    <tr>\n",
       "      <th>month</th>\n",
       "      <td>7</td>\n",
       "      <td>7</td>\n",
       "      <td>7</td>\n",
       "      <td>7</td>\n",
       "      <td>7</td>\n",
       "    </tr>\n",
       "    <tr>\n",
       "      <th>day</th>\n",
       "      <td>31</td>\n",
       "      <td>31</td>\n",
       "      <td>31</td>\n",
       "      <td>31</td>\n",
       "      <td>31</td>\n",
       "    </tr>\n",
       "    <tr>\n",
       "      <th>week_of_year</th>\n",
       "      <td>31</td>\n",
       "      <td>31</td>\n",
       "      <td>31</td>\n",
       "      <td>31</td>\n",
       "      <td>31</td>\n",
       "    </tr>\n",
       "    <tr>\n",
       "      <th>year_week</th>\n",
       "      <td>2015-30</td>\n",
       "      <td>2015-30</td>\n",
       "      <td>2015-30</td>\n",
       "      <td>2015-30</td>\n",
       "      <td>2015-30</td>\n",
       "    </tr>\n",
       "    <tr>\n",
       "      <th>competition_since</th>\n",
       "      <td>2008-09-01 00:00:00</td>\n",
       "      <td>2007-11-01 00:00:00</td>\n",
       "      <td>2006-12-01 00:00:00</td>\n",
       "      <td>2009-09-01 00:00:00</td>\n",
       "      <td>2015-04-01 00:00:00</td>\n",
       "    </tr>\n",
       "    <tr>\n",
       "      <th>competition_time_month</th>\n",
       "      <td>84</td>\n",
       "      <td>94</td>\n",
       "      <td>105</td>\n",
       "      <td>71</td>\n",
       "      <td>4</td>\n",
       "    </tr>\n",
       "    <tr>\n",
       "      <th>promo_since</th>\n",
       "      <td>2015-07-27 00:00:00</td>\n",
       "      <td>2010-03-22 00:00:00</td>\n",
       "      <td>2011-03-28 00:00:00</td>\n",
       "      <td>2015-07-27 00:00:00</td>\n",
       "      <td>2015-07-27 00:00:00</td>\n",
       "    </tr>\n",
       "    <tr>\n",
       "      <th>promo_time_week</th>\n",
       "      <td>0</td>\n",
       "      <td>279</td>\n",
       "      <td>226</td>\n",
       "      <td>0</td>\n",
       "      <td>0</td>\n",
       "    </tr>\n",
       "  </tbody>\n",
       "</table>\n",
       "</div>"
      ],
      "text/plain": [
       "                                                0                    1  \\\n",
       "store                                           1                    2   \n",
       "day_of_week                                     5                    5   \n",
       "date                          2015-07-31 00:00:00  2015-07-31 00:00:00   \n",
       "sales                                        5263                 6064   \n",
       "customers                                     555                  625   \n",
       "open                                            1                    1   \n",
       "promo                                           1                    1   \n",
       "state_holiday                         regular_day          regular_day   \n",
       "school_holiday                                  1                    1   \n",
       "store_type                                      c                    a   \n",
       "assortment                                  basic                basic   \n",
       "competition_distance                         1270                  570   \n",
       "competition_open_since_month                    9                   11   \n",
       "competition_open_since_year                  2008                 2007   \n",
       "promo2                                          0                    1   \n",
       "promo2_since_week                              31                   13   \n",
       "promo2_since_year                            2015                 2010   \n",
       "promo_interval                                  0      Jan,Apr,Jul,Oct   \n",
       "month_map                                     Jul                  Jul   \n",
       "is_promo                                        0                    1   \n",
       "year                                         2015                 2015   \n",
       "month                                           7                    7   \n",
       "day                                            31                   31   \n",
       "week_of_year                                   31                   31   \n",
       "year_week                                 2015-30              2015-30   \n",
       "competition_since             2008-09-01 00:00:00  2007-11-01 00:00:00   \n",
       "competition_time_month                         84                   94   \n",
       "promo_since                   2015-07-27 00:00:00  2010-03-22 00:00:00   \n",
       "promo_time_week                                 0                  279   \n",
       "\n",
       "                                                2                    3  \\\n",
       "store                                           3                    4   \n",
       "day_of_week                                     5                    5   \n",
       "date                          2015-07-31 00:00:00  2015-07-31 00:00:00   \n",
       "sales                                        8314                13995   \n",
       "customers                                     821                 1498   \n",
       "open                                            1                    1   \n",
       "promo                                           1                    1   \n",
       "state_holiday                         regular_day          regular_day   \n",
       "school_holiday                                  1                    1   \n",
       "store_type                                      a                    c   \n",
       "assortment                                  basic             extended   \n",
       "competition_distance                        14130                  620   \n",
       "competition_open_since_month                   12                    9   \n",
       "competition_open_since_year                  2006                 2009   \n",
       "promo2                                          1                    0   \n",
       "promo2_since_week                              14                   31   \n",
       "promo2_since_year                            2011                 2015   \n",
       "promo_interval                    Jan,Apr,Jul,Oct                    0   \n",
       "month_map                                     Jul                  Jul   \n",
       "is_promo                                        1                    0   \n",
       "year                                         2015                 2015   \n",
       "month                                           7                    7   \n",
       "day                                            31                   31   \n",
       "week_of_year                                   31                   31   \n",
       "year_week                                 2015-30              2015-30   \n",
       "competition_since             2006-12-01 00:00:00  2009-09-01 00:00:00   \n",
       "competition_time_month                        105                   71   \n",
       "promo_since                   2011-03-28 00:00:00  2015-07-27 00:00:00   \n",
       "promo_time_week                               226                    0   \n",
       "\n",
       "                                                4  \n",
       "store                                           5  \n",
       "day_of_week                                     5  \n",
       "date                          2015-07-31 00:00:00  \n",
       "sales                                        4822  \n",
       "customers                                     559  \n",
       "open                                            1  \n",
       "promo                                           1  \n",
       "state_holiday                         regular_day  \n",
       "school_holiday                                  1  \n",
       "store_type                                      a  \n",
       "assortment                                  basic  \n",
       "competition_distance                        29910  \n",
       "competition_open_since_month                    4  \n",
       "competition_open_since_year                  2015  \n",
       "promo2                                          0  \n",
       "promo2_since_week                              31  \n",
       "promo2_since_year                            2015  \n",
       "promo_interval                                  0  \n",
       "month_map                                     Jul  \n",
       "is_promo                                        0  \n",
       "year                                         2015  \n",
       "month                                           7  \n",
       "day                                            31  \n",
       "week_of_year                                   31  \n",
       "year_week                                 2015-30  \n",
       "competition_since             2015-04-01 00:00:00  \n",
       "competition_time_month                          4  \n",
       "promo_since                   2015-07-27 00:00:00  \n",
       "promo_time_week                                 0  "
      ]
     },
     "execution_count": 21,
     "metadata": {},
     "output_type": "execute_result"
    }
   ],
   "source": [
    "df2.head().T"
   ]
  },
  {
   "cell_type": "markdown",
   "metadata": {},
   "source": [
    "# 3.0. PASSO 03 - FILTRAGEM DE VARIAVEIS"
   ]
  },
  {
   "cell_type": "code",
   "execution_count": 28,
   "metadata": {},
   "outputs": [],
   "source": [
    "df3 = df2.copy()"
   ]
  },
  {
   "cell_type": "code",
   "execution_count": 29,
   "metadata": {},
   "outputs": [
    {
     "data": {
      "text/html": [
       "<div>\n",
       "<style scoped>\n",
       "    .dataframe tbody tr th:only-of-type {\n",
       "        vertical-align: middle;\n",
       "    }\n",
       "\n",
       "    .dataframe tbody tr th {\n",
       "        vertical-align: top;\n",
       "    }\n",
       "\n",
       "    .dataframe thead th {\n",
       "        text-align: right;\n",
       "    }\n",
       "</style>\n",
       "<table border=\"1\" class=\"dataframe\">\n",
       "  <thead>\n",
       "    <tr style=\"text-align: right;\">\n",
       "      <th></th>\n",
       "      <th>store</th>\n",
       "      <th>day_of_week</th>\n",
       "      <th>date</th>\n",
       "      <th>sales</th>\n",
       "      <th>customers</th>\n",
       "      <th>open</th>\n",
       "      <th>promo</th>\n",
       "      <th>state_holiday</th>\n",
       "      <th>school_holiday</th>\n",
       "      <th>store_type</th>\n",
       "      <th>...</th>\n",
       "      <th>is_promo</th>\n",
       "      <th>year</th>\n",
       "      <th>month</th>\n",
       "      <th>day</th>\n",
       "      <th>week_of_year</th>\n",
       "      <th>year_week</th>\n",
       "      <th>competition_since</th>\n",
       "      <th>competition_time_month</th>\n",
       "      <th>promo_since</th>\n",
       "      <th>promo_time_week</th>\n",
       "    </tr>\n",
       "  </thead>\n",
       "  <tbody>\n",
       "    <tr>\n",
       "      <th>0</th>\n",
       "      <td>1</td>\n",
       "      <td>5</td>\n",
       "      <td>2015-07-31</td>\n",
       "      <td>5263</td>\n",
       "      <td>555</td>\n",
       "      <td>1</td>\n",
       "      <td>1</td>\n",
       "      <td>regular_day</td>\n",
       "      <td>1</td>\n",
       "      <td>c</td>\n",
       "      <td>...</td>\n",
       "      <td>0</td>\n",
       "      <td>2015</td>\n",
       "      <td>7</td>\n",
       "      <td>31</td>\n",
       "      <td>31</td>\n",
       "      <td>2015-30</td>\n",
       "      <td>2008-09-01</td>\n",
       "      <td>84</td>\n",
       "      <td>2015-07-27</td>\n",
       "      <td>0</td>\n",
       "    </tr>\n",
       "    <tr>\n",
       "      <th>1</th>\n",
       "      <td>2</td>\n",
       "      <td>5</td>\n",
       "      <td>2015-07-31</td>\n",
       "      <td>6064</td>\n",
       "      <td>625</td>\n",
       "      <td>1</td>\n",
       "      <td>1</td>\n",
       "      <td>regular_day</td>\n",
       "      <td>1</td>\n",
       "      <td>a</td>\n",
       "      <td>...</td>\n",
       "      <td>1</td>\n",
       "      <td>2015</td>\n",
       "      <td>7</td>\n",
       "      <td>31</td>\n",
       "      <td>31</td>\n",
       "      <td>2015-30</td>\n",
       "      <td>2007-11-01</td>\n",
       "      <td>94</td>\n",
       "      <td>2010-03-22</td>\n",
       "      <td>279</td>\n",
       "    </tr>\n",
       "    <tr>\n",
       "      <th>2</th>\n",
       "      <td>3</td>\n",
       "      <td>5</td>\n",
       "      <td>2015-07-31</td>\n",
       "      <td>8314</td>\n",
       "      <td>821</td>\n",
       "      <td>1</td>\n",
       "      <td>1</td>\n",
       "      <td>regular_day</td>\n",
       "      <td>1</td>\n",
       "      <td>a</td>\n",
       "      <td>...</td>\n",
       "      <td>1</td>\n",
       "      <td>2015</td>\n",
       "      <td>7</td>\n",
       "      <td>31</td>\n",
       "      <td>31</td>\n",
       "      <td>2015-30</td>\n",
       "      <td>2006-12-01</td>\n",
       "      <td>105</td>\n",
       "      <td>2011-03-28</td>\n",
       "      <td>226</td>\n",
       "    </tr>\n",
       "    <tr>\n",
       "      <th>3</th>\n",
       "      <td>4</td>\n",
       "      <td>5</td>\n",
       "      <td>2015-07-31</td>\n",
       "      <td>13995</td>\n",
       "      <td>1498</td>\n",
       "      <td>1</td>\n",
       "      <td>1</td>\n",
       "      <td>regular_day</td>\n",
       "      <td>1</td>\n",
       "      <td>c</td>\n",
       "      <td>...</td>\n",
       "      <td>0</td>\n",
       "      <td>2015</td>\n",
       "      <td>7</td>\n",
       "      <td>31</td>\n",
       "      <td>31</td>\n",
       "      <td>2015-30</td>\n",
       "      <td>2009-09-01</td>\n",
       "      <td>71</td>\n",
       "      <td>2015-07-27</td>\n",
       "      <td>0</td>\n",
       "    </tr>\n",
       "    <tr>\n",
       "      <th>4</th>\n",
       "      <td>5</td>\n",
       "      <td>5</td>\n",
       "      <td>2015-07-31</td>\n",
       "      <td>4822</td>\n",
       "      <td>559</td>\n",
       "      <td>1</td>\n",
       "      <td>1</td>\n",
       "      <td>regular_day</td>\n",
       "      <td>1</td>\n",
       "      <td>a</td>\n",
       "      <td>...</td>\n",
       "      <td>0</td>\n",
       "      <td>2015</td>\n",
       "      <td>7</td>\n",
       "      <td>31</td>\n",
       "      <td>31</td>\n",
       "      <td>2015-30</td>\n",
       "      <td>2015-04-01</td>\n",
       "      <td>4</td>\n",
       "      <td>2015-07-27</td>\n",
       "      <td>0</td>\n",
       "    </tr>\n",
       "  </tbody>\n",
       "</table>\n",
       "<p>5 rows × 29 columns</p>\n",
       "</div>"
      ],
      "text/plain": [
       "   store  day_of_week       date  sales  customers  open  promo state_holiday  \\\n",
       "0      1            5 2015-07-31   5263        555     1      1   regular_day   \n",
       "1      2            5 2015-07-31   6064        625     1      1   regular_day   \n",
       "2      3            5 2015-07-31   8314        821     1      1   regular_day   \n",
       "3      4            5 2015-07-31  13995       1498     1      1   regular_day   \n",
       "4      5            5 2015-07-31   4822        559     1      1   regular_day   \n",
       "\n",
       "   school_holiday store_type  ... is_promo  year  month  day  week_of_year  \\\n",
       "0               1          c  ...        0  2015      7   31            31   \n",
       "1               1          a  ...        1  2015      7   31            31   \n",
       "2               1          a  ...        1  2015      7   31            31   \n",
       "3               1          c  ...        0  2015      7   31            31   \n",
       "4               1          a  ...        0  2015      7   31            31   \n",
       "\n",
       "   year_week  competition_since competition_time_month promo_since  \\\n",
       "0    2015-30         2008-09-01                     84  2015-07-27   \n",
       "1    2015-30         2007-11-01                     94  2010-03-22   \n",
       "2    2015-30         2006-12-01                    105  2011-03-28   \n",
       "3    2015-30         2009-09-01                     71  2015-07-27   \n",
       "4    2015-30         2015-04-01                      4  2015-07-27   \n",
       "\n",
       "   promo_time_week  \n",
       "0                0  \n",
       "1              279  \n",
       "2              226  \n",
       "3                0  \n",
       "4                0  \n",
       "\n",
       "[5 rows x 29 columns]"
      ]
     },
     "execution_count": 29,
     "metadata": {},
     "output_type": "execute_result"
    }
   ],
   "source": [
    "df3.head()"
   ]
  },
  {
   "cell_type": "markdown",
   "metadata": {},
   "source": [
    "## 3.1. Filtragem das Linhas"
   ]
  },
  {
   "cell_type": "code",
   "execution_count": 30,
   "metadata": {},
   "outputs": [],
   "source": [
    "df3 = df3[(df3['open'] != 0) & (df3['sales'] > 0)]"
   ]
  },
  {
   "cell_type": "markdown",
   "metadata": {},
   "source": [
    "## 3.2. Seleção das colunas"
   ]
  },
  {
   "cell_type": "code",
   "execution_count": 31,
   "metadata": {},
   "outputs": [],
   "source": [
    "cols_drop = ['customers', 'open', 'promo_interval', 'month_map']\n",
    "df3 = df3.drop(cols_drop, axis=1)"
   ]
  },
  {
   "cell_type": "code",
   "execution_count": 32,
   "metadata": {},
   "outputs": [
    {
     "data": {
      "text/html": [
       "<div>\n",
       "<style scoped>\n",
       "    .dataframe tbody tr th:only-of-type {\n",
       "        vertical-align: middle;\n",
       "    }\n",
       "\n",
       "    .dataframe tbody tr th {\n",
       "        vertical-align: top;\n",
       "    }\n",
       "\n",
       "    .dataframe thead th {\n",
       "        text-align: right;\n",
       "    }\n",
       "</style>\n",
       "<table border=\"1\" class=\"dataframe\">\n",
       "  <thead>\n",
       "    <tr style=\"text-align: right;\">\n",
       "      <th></th>\n",
       "      <th>store</th>\n",
       "      <th>day_of_week</th>\n",
       "      <th>date</th>\n",
       "      <th>sales</th>\n",
       "      <th>promo</th>\n",
       "      <th>state_holiday</th>\n",
       "      <th>school_holiday</th>\n",
       "      <th>store_type</th>\n",
       "      <th>assortment</th>\n",
       "      <th>competition_distance</th>\n",
       "      <th>...</th>\n",
       "      <th>is_promo</th>\n",
       "      <th>year</th>\n",
       "      <th>month</th>\n",
       "      <th>day</th>\n",
       "      <th>week_of_year</th>\n",
       "      <th>year_week</th>\n",
       "      <th>competition_since</th>\n",
       "      <th>competition_time_month</th>\n",
       "      <th>promo_since</th>\n",
       "      <th>promo_time_week</th>\n",
       "    </tr>\n",
       "  </thead>\n",
       "  <tbody>\n",
       "    <tr>\n",
       "      <th>0</th>\n",
       "      <td>1</td>\n",
       "      <td>5</td>\n",
       "      <td>2015-07-31</td>\n",
       "      <td>5263</td>\n",
       "      <td>1</td>\n",
       "      <td>regular_day</td>\n",
       "      <td>1</td>\n",
       "      <td>c</td>\n",
       "      <td>basic</td>\n",
       "      <td>1270.0</td>\n",
       "      <td>...</td>\n",
       "      <td>0</td>\n",
       "      <td>2015</td>\n",
       "      <td>7</td>\n",
       "      <td>31</td>\n",
       "      <td>31</td>\n",
       "      <td>2015-30</td>\n",
       "      <td>2008-09-01</td>\n",
       "      <td>84</td>\n",
       "      <td>2015-07-27</td>\n",
       "      <td>0</td>\n",
       "    </tr>\n",
       "    <tr>\n",
       "      <th>1</th>\n",
       "      <td>2</td>\n",
       "      <td>5</td>\n",
       "      <td>2015-07-31</td>\n",
       "      <td>6064</td>\n",
       "      <td>1</td>\n",
       "      <td>regular_day</td>\n",
       "      <td>1</td>\n",
       "      <td>a</td>\n",
       "      <td>basic</td>\n",
       "      <td>570.0</td>\n",
       "      <td>...</td>\n",
       "      <td>1</td>\n",
       "      <td>2015</td>\n",
       "      <td>7</td>\n",
       "      <td>31</td>\n",
       "      <td>31</td>\n",
       "      <td>2015-30</td>\n",
       "      <td>2007-11-01</td>\n",
       "      <td>94</td>\n",
       "      <td>2010-03-22</td>\n",
       "      <td>279</td>\n",
       "    </tr>\n",
       "    <tr>\n",
       "      <th>2</th>\n",
       "      <td>3</td>\n",
       "      <td>5</td>\n",
       "      <td>2015-07-31</td>\n",
       "      <td>8314</td>\n",
       "      <td>1</td>\n",
       "      <td>regular_day</td>\n",
       "      <td>1</td>\n",
       "      <td>a</td>\n",
       "      <td>basic</td>\n",
       "      <td>14130.0</td>\n",
       "      <td>...</td>\n",
       "      <td>1</td>\n",
       "      <td>2015</td>\n",
       "      <td>7</td>\n",
       "      <td>31</td>\n",
       "      <td>31</td>\n",
       "      <td>2015-30</td>\n",
       "      <td>2006-12-01</td>\n",
       "      <td>105</td>\n",
       "      <td>2011-03-28</td>\n",
       "      <td>226</td>\n",
       "    </tr>\n",
       "    <tr>\n",
       "      <th>3</th>\n",
       "      <td>4</td>\n",
       "      <td>5</td>\n",
       "      <td>2015-07-31</td>\n",
       "      <td>13995</td>\n",
       "      <td>1</td>\n",
       "      <td>regular_day</td>\n",
       "      <td>1</td>\n",
       "      <td>c</td>\n",
       "      <td>extended</td>\n",
       "      <td>620.0</td>\n",
       "      <td>...</td>\n",
       "      <td>0</td>\n",
       "      <td>2015</td>\n",
       "      <td>7</td>\n",
       "      <td>31</td>\n",
       "      <td>31</td>\n",
       "      <td>2015-30</td>\n",
       "      <td>2009-09-01</td>\n",
       "      <td>71</td>\n",
       "      <td>2015-07-27</td>\n",
       "      <td>0</td>\n",
       "    </tr>\n",
       "    <tr>\n",
       "      <th>4</th>\n",
       "      <td>5</td>\n",
       "      <td>5</td>\n",
       "      <td>2015-07-31</td>\n",
       "      <td>4822</td>\n",
       "      <td>1</td>\n",
       "      <td>regular_day</td>\n",
       "      <td>1</td>\n",
       "      <td>a</td>\n",
       "      <td>basic</td>\n",
       "      <td>29910.0</td>\n",
       "      <td>...</td>\n",
       "      <td>0</td>\n",
       "      <td>2015</td>\n",
       "      <td>7</td>\n",
       "      <td>31</td>\n",
       "      <td>31</td>\n",
       "      <td>2015-30</td>\n",
       "      <td>2015-04-01</td>\n",
       "      <td>4</td>\n",
       "      <td>2015-07-27</td>\n",
       "      <td>0</td>\n",
       "    </tr>\n",
       "  </tbody>\n",
       "</table>\n",
       "<p>5 rows × 25 columns</p>\n",
       "</div>"
      ],
      "text/plain": [
       "   store  day_of_week       date  sales  promo state_holiday  school_holiday  \\\n",
       "0      1            5 2015-07-31   5263      1   regular_day               1   \n",
       "1      2            5 2015-07-31   6064      1   regular_day               1   \n",
       "2      3            5 2015-07-31   8314      1   regular_day               1   \n",
       "3      4            5 2015-07-31  13995      1   regular_day               1   \n",
       "4      5            5 2015-07-31   4822      1   regular_day               1   \n",
       "\n",
       "  store_type assortment  competition_distance  ...  is_promo  year  month  \\\n",
       "0          c      basic                1270.0  ...         0  2015      7   \n",
       "1          a      basic                 570.0  ...         1  2015      7   \n",
       "2          a      basic               14130.0  ...         1  2015      7   \n",
       "3          c   extended                 620.0  ...         0  2015      7   \n",
       "4          a      basic               29910.0  ...         0  2015      7   \n",
       "\n",
       "   day  week_of_year  year_week  competition_since  competition_time_month  \\\n",
       "0   31            31    2015-30         2008-09-01                      84   \n",
       "1   31            31    2015-30         2007-11-01                      94   \n",
       "2   31            31    2015-30         2006-12-01                     105   \n",
       "3   31            31    2015-30         2009-09-01                      71   \n",
       "4   31            31    2015-30         2015-04-01                       4   \n",
       "\n",
       "   promo_since  promo_time_week  \n",
       "0   2015-07-27                0  \n",
       "1   2010-03-22              279  \n",
       "2   2011-03-28              226  \n",
       "3   2015-07-27                0  \n",
       "4   2015-07-27                0  \n",
       "\n",
       "[5 rows x 25 columns]"
      ]
     },
     "execution_count": 32,
     "metadata": {},
     "output_type": "execute_result"
    }
   ],
   "source": [
    "df3.head()"
   ]
  },
  {
   "cell_type": "code",
   "execution_count": null,
   "metadata": {},
   "outputs": [],
   "source": []
  }
 ],
 "metadata": {
  "kernelspec": {
   "display_name": "Python 3",
   "language": "python",
   "name": "python3"
  },
  "language_info": {
   "codemirror_mode": {
    "name": "ipython",
    "version": 3
   },
   "file_extension": ".py",
   "mimetype": "text/x-python",
   "name": "python",
   "nbconvert_exporter": "python",
   "pygments_lexer": "ipython3",
   "version": "3.8.5"
  }
 },
 "nbformat": 4,
 "nbformat_minor": 4
}
